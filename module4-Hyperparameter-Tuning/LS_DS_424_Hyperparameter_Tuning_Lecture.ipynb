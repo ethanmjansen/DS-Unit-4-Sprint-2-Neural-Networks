{
 "cells": [
  {
   "cell_type": "markdown",
   "metadata": {
    "colab_type": "text",
    "id": "41TS0Sa0rDNx"
   },
   "source": [
    "Lambda School Data Science\n",
    "\n",
    "*Unit 4, Sprint 2, Module 4*\n",
    "\n",
    "---"
   ]
  },
  {
   "cell_type": "markdown",
   "metadata": {
    "colab_type": "text",
    "id": "41TS0Sa0rDNx"
   },
   "source": [
    "# Neural Networks & GPUs (Prepare)\n",
    "*aka Hyperparameter Tuning*\n",
    "\n",
    "*aka Big Servers for Big Problems*"
   ]
  },
  {
   "cell_type": "markdown",
   "metadata": {
    "colab_type": "text",
    "id": "41TS0Sa0rDNx"
   },
   "source": [
    "## Learning Objectives\n",
    "* <a href=\"#p1\">Part 1</a>: Describe the major hyperparemeters to tune\n",
    "* <a href=\"#p2\">Part 2</a>: Implement an experiment tracking framework\n",
    "* <a href=\"#p3\">Part 3</a>: Search the hyperparameter space using RandomSearch (Optional)"
   ]
  },
  {
   "cell_type": "code",
   "execution_count": 1,
   "metadata": {},
   "outputs": [],
   "source": [
    "wandb_group = \"ds8\"\n",
    "wandb_project = \"inclass\""
   ]
  },
  {
   "cell_type": "markdown",
   "metadata": {},
   "source": [
    "# Hyperparameter Options (Learn)\n",
    "<a id=\"p1\"></a>"
   ]
  },
  {
   "cell_type": "markdown",
   "metadata": {},
   "source": [
    "## Overview\n",
    "\n",
    "Hyperparameter tuning is much more important with neural networks than it has been with any other models that we have considered up to this point. Other supervised learning models might have a couple of parameters, but neural networks can have dozens. These can substantially affect the accuracy of our models and although it can be a time consuming process is a necessary step when working with neural networks.\n",
    "​\n",
    "Hyperparameter tuning comes with a challenge. How can we compare models specified with different hyperparameters if our model's final error metric can vary somewhat erratically? How do we avoid just getting unlucky and selecting the wrong hyperparameter? This is a problem that to a certain degree we just have to live with as we test and test again. However, we can minimize it somewhat by pairing our experiments with Cross Validation to reduce the variance of our final accuracy values."
   ]
  },
  {
   "cell_type": "markdown",
   "metadata": {
    "colab_type": "text",
    "id": "0s0o2pqBs88q"
   },
   "source": [
    "### Load Boston Housing Data"
   ]
  },
  {
   "cell_type": "code",
   "execution_count": 2,
   "metadata": {},
   "outputs": [],
   "source": [
    "from tensorflow.keras.datasets import boston_housing\n",
    "\n",
    "(x_train, y_train), (x_test, y_test) = boston_housing.load_data()"
   ]
  },
  {
   "cell_type": "markdown",
   "metadata": {
    "colab_type": "text",
    "id": "Pm7zow5IvaTt"
   },
   "source": [
    "### Normalizing Input Data\n",
    "\n",
    "It's not 100% necessary to normalize/scale your input data before feeding it to a neural network, the network can learn the appropriate weights to deal with data of as long as it is numerically represented,  but it is recommended as it can help **make training faster** and **reduces the chances that gradient descent might get stuck in a local optimum**.\n",
    "\n",
    "<https://stackoverflow.com/questions/4674623/why-do-we-have-to-normalize-the-input-for-an-artificial-neural-network>"
   ]
  },
  {
   "cell_type": "code",
   "execution_count": 3,
   "metadata": {},
   "outputs": [
    {
     "name": "stdout",
     "output_type": "stream",
     "text": [
      "[[-0.27224633 -0.48361547 -0.43576161 -0.25683275 -0.1652266  -0.1764426\n",
      "   0.81306188  0.1166983  -0.62624905 -0.59517003  1.14850044  0.44807713\n",
      "   0.8252202 ]\n",
      " [-0.40342651  2.99178419 -1.33391162 -0.25683275 -1.21518188  1.89434613\n",
      "  -1.91036058  1.24758524 -0.85646254 -0.34843254 -1.71818909  0.43190599\n",
      "  -1.32920239]\n",
      " [ 0.1249402  -0.48361547  1.0283258  -0.25683275  0.62864202 -1.82968811\n",
      "   1.11048828 -1.18743907  1.67588577  1.5652875   0.78447637  0.22061726\n",
      "  -1.30850006]\n",
      " [-0.40149354 -0.48361547 -0.86940196 -0.25683275 -0.3615597  -0.3245576\n",
      "  -1.23667187  1.10717989 -0.51114231 -1.094663    0.78447637  0.44807713\n",
      "  -0.65292624]\n",
      " [-0.0056343  -0.48361547  1.0283258  -0.25683275  1.32861221  0.15364225\n",
      "   0.69480801 -0.57857203  1.67588577  1.5652875   0.78447637  0.3898823\n",
      "   0.26349695]\n",
      " [-0.37502238 -0.48361547 -0.54747912 -0.25683275 -0.54935658 -0.78865126\n",
      "   0.18954148  0.48371503 -0.51114231 -0.71552978  0.51145832  0.38669063\n",
      "  -0.13812828]\n",
      " [ 0.58963463 -0.48361547  1.0283258  -0.25683275  1.21764133 -1.03127774\n",
      "   1.11048828 -1.06518235  1.67588577  1.5652875   0.78447637  0.44807713\n",
      "   1.49873604]\n",
      " [ 0.0381708  -0.48361547  1.24588095 -0.25683275  2.67733525 -1.12719983\n",
      "   1.11048828 -1.14833073 -0.51114231 -0.01744323 -1.71818909  0.44807713\n",
      "   1.88793986]\n",
      " [-0.17228416 -0.48361547  1.24588095 -0.25683275  2.67733525 -0.90150078\n",
      "   1.11048828 -1.09664657 -0.51114231 -0.01744323 -1.71818909 -1.97365769\n",
      "   0.53952803]\n",
      " [-0.22932104 -0.48361547  1.58544339 -0.25683275  0.56888847 -1.76056777\n",
      "   1.11048828 -1.13471925 -0.62624905  0.18716835  1.23950646  0.44807713\n",
      "   2.99068404]]\n"
     ]
    }
   ],
   "source": [
    "from sklearn.preprocessing import StandardScaler\n",
    "\n",
    "scaler = StandardScaler()\n",
    "\n",
    "x_train = scaler.fit_transform(x_train)\n",
    "x_test = scaler.transform(x_test)\n",
    "print(x_train[:10])"
   ]
  },
  {
   "cell_type": "markdown",
   "metadata": {
    "colab_type": "text",
    "id": "l6hgCWbir90R"
   },
   "source": [
    "### Model Validation using an automatic verification Dataset\n",
    "\n",
    "Instead of doing seperate train test split class, Keras has a really nice feature that you can set the validation.data argument when fitting your model and Keras will take that portion of your test data and use it as a validation dataset. "
   ]
  },
  {
   "cell_type": "code",
   "execution_count": 4,
   "metadata": {
    "colab": {
     "base_uri": "https://localhost:8080/",
     "height": 1750
    },
    "colab_type": "code",
    "id": "GMXVfmzXp1Oo",
    "outputId": "b05e251e-508f-46e6-865b-f869ae2a5dc4"
   },
   "outputs": [
    {
     "name": "stdout",
     "output_type": "stream",
     "text": [
      "Train on 404 samples, validate on 102 samples\n",
      "Epoch 1/75\n",
      "404/404 [==============================] - 2s 4ms/sample - loss: 500.9877 - mse: 500.9877 - mae: 20.3458 - val_loss: 410.3125 - val_mse: 410.3125 - val_mae: 18.0824\n",
      "Epoch 2/75\n",
      "404/404 [==============================] - 0s 393us/sample - loss: 240.3873 - mse: 240.3873 - mae: 12.9626 - val_loss: 109.7092 - val_mse: 109.7092 - val_mae: 8.5251\n",
      "Epoch 3/75\n",
      "404/404 [==============================] - 0s 388us/sample - loss: 61.8970 - mse: 61.8970 - mae: 5.8584 - val_loss: 46.6825 - val_mse: 46.6825 - val_mae: 5.3605\n",
      "Epoch 4/75\n",
      "404/404 [==============================] - 0s 372us/sample - loss: 32.1834 - mse: 32.1835 - mae: 4.0976 - val_loss: 30.9314 - val_mse: 30.9314 - val_mae: 4.3442\n",
      "Epoch 5/75\n",
      "404/404 [==============================] - 0s 430us/sample - loss: 24.1982 - mse: 24.1982 - mae: 3.5308 - val_loss: 26.8751 - val_mse: 26.8751 - val_mae: 3.9665\n",
      "Epoch 6/75\n",
      "404/404 [==============================] - 0s 384us/sample - loss: 20.6577 - mse: 20.6577 - mae: 3.1658 - val_loss: 24.5485 - val_mse: 24.5485 - val_mae: 3.7567\n",
      "Epoch 7/75\n",
      "404/404 [==============================] - 0s 333us/sample - loss: 18.4294 - mse: 18.4294 - mae: 2.9700 - val_loss: 23.3660 - val_mse: 23.3660 - val_mae: 3.6111\n",
      "Epoch 8/75\n",
      "404/404 [==============================] - 0s 412us/sample - loss: 17.0578 - mse: 17.0578 - mae: 2.8795 - val_loss: 22.3894 - val_mse: 22.3894 - val_mae: 3.4320\n",
      "Epoch 9/75\n",
      "404/404 [==============================] - 0s 401us/sample - loss: 15.7409 - mse: 15.7409 - mae: 2.7281 - val_loss: 23.1201 - val_mse: 23.1201 - val_mae: 3.4528\n",
      "Epoch 10/75\n",
      "404/404 [==============================] - 0s 511us/sample - loss: 14.2247 - mse: 14.2247 - mae: 2.5934 - val_loss: 22.3460 - val_mse: 22.3460 - val_mae: 3.3466\n",
      "Epoch 11/75\n",
      "404/404 [==============================] - 0s 366us/sample - loss: 13.3429 - mse: 13.3429 - mae: 2.5063 - val_loss: 23.0212 - val_mse: 23.0212 - val_mae: 3.3650\n",
      "Epoch 12/75\n",
      "404/404 [==============================] - 0s 378us/sample - loss: 12.7319 - mse: 12.7319 - mae: 2.4758 - val_loss: 22.6191 - val_mse: 22.6191 - val_mae: 3.2883\n",
      "Epoch 13/75\n",
      "404/404 [==============================] - 0s 395us/sample - loss: 11.9229 - mse: 11.9229 - mae: 2.4186 - val_loss: 22.9339 - val_mse: 22.9339 - val_mae: 3.2850\n",
      "Epoch 14/75\n",
      "404/404 [==============================] - 0s 365us/sample - loss: 11.4360 - mse: 11.4361 - mae: 2.3550 - val_loss: 23.7994 - val_mse: 23.7994 - val_mae: 3.3320\n",
      "Epoch 15/75\n",
      "404/404 [==============================] - 0s 386us/sample - loss: 10.9652 - mse: 10.9652 - mae: 2.3217 - val_loss: 21.8003 - val_mse: 21.8003 - val_mae: 3.1260\n",
      "Epoch 16/75\n",
      "404/404 [==============================] - 0s 425us/sample - loss: 10.8552 - mse: 10.8552 - mae: 2.3095 - val_loss: 22.0834 - val_mse: 22.0834 - val_mae: 3.1220\n",
      "Epoch 17/75\n",
      "404/404 [==============================] - 0s 504us/sample - loss: 10.4159 - mse: 10.4159 - mae: 2.2781 - val_loss: 21.2633 - val_mse: 21.2633 - val_mae: 3.0445\n",
      "Epoch 18/75\n",
      "404/404 [==============================] - 0s 410us/sample - loss: 9.9303 - mse: 9.9303 - mae: 2.1962 - val_loss: 23.9773 - val_mse: 23.9773 - val_mae: 3.2497\n",
      "Epoch 19/75\n",
      "404/404 [==============================] - 0s 397us/sample - loss: 10.0406 - mse: 10.0406 - mae: 2.2315 - val_loss: 22.8318 - val_mse: 22.8318 - val_mae: 3.1362\n",
      "Epoch 20/75\n",
      "404/404 [==============================] - 0s 442us/sample - loss: 9.5475 - mse: 9.5475 - mae: 2.1828 - val_loss: 22.6450 - val_mse: 22.6450 - val_mae: 3.1244\n",
      "Epoch 21/75\n",
      "404/404 [==============================] - 0s 397us/sample - loss: 9.3967 - mse: 9.3967 - mae: 2.1459 - val_loss: 23.1253 - val_mse: 23.1253 - val_mae: 3.1481\n",
      "Epoch 22/75\n",
      "404/404 [==============================] - 0s 368us/sample - loss: 9.7904 - mse: 9.7904 - mae: 2.2252 - val_loss: 23.7599 - val_mse: 23.7599 - val_mae: 3.1453\n",
      "Epoch 23/75\n",
      "404/404 [==============================] - 0s 397us/sample - loss: 9.6605 - mse: 9.6605 - mae: 2.2193 - val_loss: 22.9166 - val_mse: 22.9166 - val_mae: 3.1542\n",
      "Epoch 24/75\n",
      "404/404 [==============================] - 0s 397us/sample - loss: 9.1356 - mse: 9.1356 - mae: 2.1428 - val_loss: 24.5486 - val_mse: 24.5486 - val_mae: 3.2687\n",
      "Epoch 25/75\n",
      "404/404 [==============================] - 0s 416us/sample - loss: 8.9966 - mse: 8.9966 - mae: 2.1209 - val_loss: 22.0743 - val_mse: 22.0743 - val_mae: 3.0144\n",
      "Epoch 26/75\n",
      "404/404 [==============================] - 0s 402us/sample - loss: 8.6439 - mse: 8.6439 - mae: 2.0652 - val_loss: 21.5989 - val_mse: 21.5989 - val_mae: 3.0152\n",
      "Epoch 27/75\n",
      "404/404 [==============================] - 0s 436us/sample - loss: 8.5709 - mse: 8.5709 - mae: 2.0680 - val_loss: 21.9024 - val_mse: 21.9024 - val_mae: 3.0787\n",
      "Epoch 28/75\n",
      "404/404 [==============================] - 0s 424us/sample - loss: 8.6546 - mse: 8.6546 - mae: 2.0823 - val_loss: 22.9269 - val_mse: 22.9269 - val_mae: 3.0928\n",
      "Epoch 29/75\n",
      "404/404 [==============================] - 0s 371us/sample - loss: 8.3176 - mse: 8.3176 - mae: 2.0564 - val_loss: 20.5159 - val_mse: 20.5159 - val_mae: 2.8729\n",
      "Epoch 30/75\n",
      "404/404 [==============================] - 0s 391us/sample - loss: 8.4283 - mse: 8.4283 - mae: 2.0651 - val_loss: 20.4309 - val_mse: 20.4309 - val_mae: 2.8648\n",
      "Epoch 31/75\n",
      "404/404 [==============================] - 0s 351us/sample - loss: 8.3304 - mse: 8.3304 - mae: 2.0281 - val_loss: 20.1757 - val_mse: 20.1757 - val_mae: 2.8834\n",
      "Epoch 32/75\n",
      "404/404 [==============================] - 0s 443us/sample - loss: 8.2615 - mse: 8.2615 - mae: 2.0182 - val_loss: 21.1360 - val_mse: 21.1360 - val_mae: 3.0311\n",
      "Epoch 33/75\n",
      "404/404 [==============================] - 0s 480us/sample - loss: 7.9185 - mse: 7.9185 - mae: 1.9623 - val_loss: 20.1161 - val_mse: 20.1161 - val_mae: 2.9293\n",
      "Epoch 34/75\n",
      "404/404 [==============================] - 0s 488us/sample - loss: 7.9140 - mse: 7.9140 - mae: 1.9766 - val_loss: 21.0862 - val_mse: 21.0862 - val_mae: 2.9552\n",
      "Epoch 35/75\n",
      "404/404 [==============================] - 0s 486us/sample - loss: 7.8276 - mse: 7.8276 - mae: 1.9722 - val_loss: 19.9593 - val_mse: 19.9593 - val_mae: 2.8226\n",
      "Epoch 36/75\n",
      "404/404 [==============================] - 0s 458us/sample - loss: 7.6824 - mse: 7.6824 - mae: 1.9353 - val_loss: 19.4063 - val_mse: 19.4063 - val_mae: 2.7993\n",
      "Epoch 37/75\n",
      "404/404 [==============================] - 0s 360us/sample - loss: 7.6807 - mse: 7.6807 - mae: 1.9657 - val_loss: 20.4982 - val_mse: 20.4982 - val_mae: 2.8664\n",
      "Epoch 38/75\n",
      "404/404 [==============================] - 0s 355us/sample - loss: 7.6275 - mse: 7.6275 - mae: 1.9412 - val_loss: 19.5627 - val_mse: 19.5627 - val_mae: 2.8161\n",
      "Epoch 39/75\n",
      "404/404 [==============================] - 0s 405us/sample - loss: 7.6236 - mse: 7.6236 - mae: 1.9651 - val_loss: 19.3626 - val_mse: 19.3626 - val_mae: 2.8045\n",
      "Epoch 40/75\n",
      "404/404 [==============================] - 0s 454us/sample - loss: 7.3439 - mse: 7.3439 - mae: 1.8876 - val_loss: 18.3680 - val_mse: 18.3680 - val_mae: 2.8012\n",
      "Epoch 41/75\n",
      "404/404 [==============================] - 0s 485us/sample - loss: 7.1733 - mse: 7.1733 - mae: 1.8912 - val_loss: 18.7377 - val_mse: 18.7377 - val_mae: 2.8655\n",
      "Epoch 42/75\n",
      "404/404 [==============================] - 0s 383us/sample - loss: 7.3273 - mse: 7.3273 - mae: 1.9131 - val_loss: 18.5672 - val_mse: 18.5672 - val_mae: 2.7247\n",
      "Epoch 43/75\n",
      "404/404 [==============================] - 0s 407us/sample - loss: 6.9751 - mse: 6.9751 - mae: 1.8518 - val_loss: 18.3964 - val_mse: 18.3964 - val_mae: 2.7779\n",
      "Epoch 44/75\n",
      "404/404 [==============================] - 0s 415us/sample - loss: 7.0717 - mse: 7.0717 - mae: 1.9063 - val_loss: 18.4921 - val_mse: 18.4921 - val_mae: 2.8717\n",
      "Epoch 45/75\n",
      "404/404 [==============================] - 0s 504us/sample - loss: 7.0092 - mse: 7.0092 - mae: 1.8845 - val_loss: 20.2409 - val_mse: 20.2409 - val_mae: 2.9936\n",
      "Epoch 46/75\n",
      "404/404 [==============================] - 0s 354us/sample - loss: 7.0366 - mse: 7.0366 - mae: 1.8734 - val_loss: 18.3291 - val_mse: 18.3291 - val_mae: 2.7230\n",
      "Epoch 47/75\n",
      "404/404 [==============================] - 0s 418us/sample - loss: 6.6908 - mse: 6.6908 - mae: 1.8284 - val_loss: 16.5861 - val_mse: 16.5861 - val_mae: 2.6657\n",
      "Epoch 48/75\n",
      "404/404 [==============================] - 0s 338us/sample - loss: 6.8474 - mse: 6.8474 - mae: 1.8307 - val_loss: 18.1566 - val_mse: 18.1566 - val_mae: 2.7862\n",
      "Epoch 49/75\n",
      "404/404 [==============================] - 0s 425us/sample - loss: 7.0491 - mse: 7.0491 - mae: 1.8987 - val_loss: 16.8814 - val_mse: 16.8814 - val_mae: 2.7052\n",
      "Epoch 50/75\n",
      "404/404 [==============================] - 0s 437us/sample - loss: 6.4283 - mse: 6.4283 - mae: 1.7740 - val_loss: 17.9298 - val_mse: 17.9298 - val_mae: 2.7456\n",
      "Epoch 51/75\n",
      "404/404 [==============================] - 0s 362us/sample - loss: 6.3227 - mse: 6.3227 - mae: 1.8127 - val_loss: 17.0467 - val_mse: 17.0467 - val_mae: 2.7683\n",
      "Epoch 52/75\n",
      "404/404 [==============================] - 0s 348us/sample - loss: 6.3763 - mse: 6.3763 - mae: 1.8288 - val_loss: 16.4133 - val_mse: 16.4133 - val_mae: 2.7229\n",
      "Epoch 53/75\n",
      "404/404 [==============================] - 0s 394us/sample - loss: 6.7767 - mse: 6.7767 - mae: 1.8596 - val_loss: 16.5691 - val_mse: 16.5691 - val_mae: 2.7095\n",
      "Epoch 54/75\n",
      "404/404 [==============================] - 0s 421us/sample - loss: 6.1731 - mse: 6.1731 - mae: 1.7880 - val_loss: 18.3607 - val_mse: 18.3607 - val_mae: 2.8239\n",
      "Epoch 55/75\n",
      "404/404 [==============================] - 0s 443us/sample - loss: 6.1367 - mse: 6.1367 - mae: 1.7797 - val_loss: 16.4396 - val_mse: 16.4396 - val_mae: 2.6637\n",
      "Epoch 56/75\n",
      "404/404 [==============================] - 0s 349us/sample - loss: 5.9049 - mse: 5.9049 - mae: 1.7276 - val_loss: 17.3001 - val_mse: 17.3001 - val_mae: 2.7687\n",
      "Epoch 57/75\n",
      "404/404 [==============================] - 0s 408us/sample - loss: 5.8305 - mse: 5.8305 - mae: 1.7223 - val_loss: 17.6511 - val_mse: 17.6511 - val_mae: 2.8058\n",
      "Epoch 58/75\n",
      "404/404 [==============================] - 0s 465us/sample - loss: 6.0255 - mse: 6.0255 - mae: 1.7623 - val_loss: 16.5049 - val_mse: 16.5049 - val_mae: 2.6868\n",
      "Epoch 59/75\n",
      "404/404 [==============================] - 0s 374us/sample - loss: 5.7561 - mse: 5.7561 - mae: 1.7124 - val_loss: 16.2623 - val_mse: 16.2623 - val_mae: 2.6962\n",
      "Epoch 60/75\n",
      "404/404 [==============================] - 0s 451us/sample - loss: 5.6557 - mse: 5.6557 - mae: 1.7032 - val_loss: 16.0986 - val_mse: 16.0986 - val_mae: 2.6857\n",
      "Epoch 61/75\n",
      "404/404 [==============================] - 0s 450us/sample - loss: 5.5314 - mse: 5.5314 - mae: 1.6909 - val_loss: 15.1142 - val_mse: 15.1142 - val_mae: 2.5793\n",
      "Epoch 62/75\n",
      "404/404 [==============================] - 0s 441us/sample - loss: 5.4479 - mse: 5.4478 - mae: 1.6770 - val_loss: 14.5662 - val_mse: 14.5662 - val_mae: 2.5317\n",
      "Epoch 63/75\n",
      "404/404 [==============================] - 0s 383us/sample - loss: 5.5511 - mse: 5.5511 - mae: 1.6899 - val_loss: 14.6992 - val_mse: 14.6992 - val_mae: 2.5291\n",
      "Epoch 64/75\n",
      "404/404 [==============================] - 0s 354us/sample - loss: 5.2451 - mse: 5.2451 - mae: 1.6395 - val_loss: 14.5270 - val_mse: 14.5270 - val_mae: 2.5688\n",
      "Epoch 65/75\n",
      "404/404 [==============================] - 0s 388us/sample - loss: 5.2800 - mse: 5.2800 - mae: 1.6398 - val_loss: 14.6816 - val_mse: 14.6816 - val_mae: 2.5502\n",
      "Epoch 66/75\n",
      "404/404 [==============================] - 0s 453us/sample - loss: 5.3242 - mse: 5.3242 - mae: 1.6672 - val_loss: 14.8988 - val_mse: 14.8988 - val_mae: 2.5616\n",
      "Epoch 67/75\n",
      "404/404 [==============================] - 0s 356us/sample - loss: 5.1392 - mse: 5.1392 - mae: 1.6493 - val_loss: 14.7822 - val_mse: 14.7822 - val_mae: 2.5307\n",
      "Epoch 68/75\n",
      "404/404 [==============================] - 0s 438us/sample - loss: 5.5524 - mse: 5.5524 - mae: 1.7061 - val_loss: 13.1996 - val_mse: 13.1996 - val_mae: 2.4842\n",
      "Epoch 69/75\n",
      "404/404 [==============================] - 0s 411us/sample - loss: 5.3257 - mse: 5.3257 - mae: 1.6555 - val_loss: 14.6441 - val_mse: 14.6441 - val_mae: 2.6282\n",
      "Epoch 70/75\n",
      "404/404 [==============================] - 0s 443us/sample - loss: 5.1800 - mse: 5.1800 - mae: 1.6433 - val_loss: 13.6233 - val_mse: 13.6233 - val_mae: 2.4727\n",
      "Epoch 71/75\n",
      "404/404 [==============================] - 0s 493us/sample - loss: 4.8944 - mse: 4.8944 - mae: 1.5991 - val_loss: 13.5138 - val_mse: 13.5138 - val_mae: 2.4950\n",
      "Epoch 72/75\n",
      "404/404 [==============================] - 0s 438us/sample - loss: 5.2811 - mse: 5.2811 - mae: 1.6386 - val_loss: 15.0575 - val_mse: 15.0575 - val_mae: 2.5953\n",
      "Epoch 73/75\n",
      "404/404 [==============================] - 0s 376us/sample - loss: 4.8857 - mse: 4.8857 - mae: 1.5803 - val_loss: 14.7467 - val_mse: 14.7467 - val_mae: 2.6509\n",
      "Epoch 74/75\n",
      "404/404 [==============================] - 0s 423us/sample - loss: 4.8090 - mse: 4.8090 - mae: 1.5719 - val_loss: 14.2092 - val_mse: 14.2092 - val_mae: 2.5747\n",
      "Epoch 75/75\n",
      "404/404 [==============================] - 0s 468us/sample - loss: 4.8688 - mse: 4.8688 - mae: 1.5904 - val_loss: 13.8092 - val_mse: 13.8092 - val_mae: 2.5410\n"
     ]
    },
    {
     "data": {
      "text/plain": [
       "<tensorflow.python.keras.callbacks.History at 0x1d4f57b0780>"
      ]
     },
     "execution_count": 4,
     "metadata": {},
     "output_type": "execute_result"
    }
   ],
   "source": [
    "from tensorflow import keras\n",
    "from tensorflow.keras.models import Sequential\n",
    "from tensorflow.keras.layers import Dense\n",
    "\n",
    "# Important Hyperparameters\n",
    "inputs = x_train.shape[1]\n",
    "epochs = 75\n",
    "batch_size = 10\n",
    "\n",
    "\n",
    "# Create Model\n",
    "model = Sequential()\n",
    "model.add(Dense(64, activation='relu', input_shape=(inputs,)))\n",
    "model.add(Dense(64, activation='relu'))\n",
    "model.add(Dense(1))\n",
    "\n",
    "# Compile Model\n",
    "model.compile(optimizer='adam', loss='mse', metrics=['mse', 'mae'])\n",
    "\n",
    "# Fit Model\n",
    "model.fit(x_train, y_train, \n",
    "          validation_data=(x_test,y_test), \n",
    "          epochs=epochs, \n",
    "          batch_size=batch_size\n",
    "         )"
   ]
  },
  {
   "cell_type": "markdown",
   "metadata": {
    "colab_type": "text",
    "id": "sYJ8t_ezHP4W"
   },
   "source": [
    "### Hyperparameter Tuning Approaches:\n",
    "\n",
    "#### 1) Babysitting AKA \"Grad Student Descent\".\n",
    "\n",
    "If you fiddled with any hyperparameters yesterday, this is basically what you did. This approach is 100% manual and is pretty common among researchers where finding that 1 exact specification that jumps your model to a level of accuracy never seen before is the difference between publishing and not publishing a paper. Of course the professors don't do this themselves, that's grunt work. This is also known as the fiddle with hyperparameters until you run out of time method.\n",
    "\n",
    "#### 2) Grid Search\n",
    "\n",
    "Grid Search is the Grad Student galaxy brain realization of: why don't I just specify all the experiments I want to run and let the computer try every possible combination of them while I go and grab lunch. This has a specific downside in that if I specify 5 hyperparameters with 5 options each then I've just created 5^5 combinations of hyperparameters to check. Which means that I have to train 3125 different versions of my model Then if I use 5-fold Cross Validation on that then my model has to run 15,525 times. This is the brute-force method of hyperparameter tuning, but it can be very profitable if done wisely. \n",
    "\n",
    "When using Grid Search here's what I suggest: don't use it to test combinations of different hyperparameters, only use it to test different specifications of **a single** hyperparameter. It's rare that combinations between different hyperparameters lead to big performance gains. You'll get 90-95% of the way there if you just Grid Search one parameter and take the best result, then retain that best result while you test another, and then retain the best specification from that while you train another. This at least makes the situation much more manageable and leads to pretty good results. \n",
    "\n",
    "#### 3) Random Search\n",
    "\n",
    "Do Grid Search for a couple of hours and you'll say to yourself - \"There's got to be a better way.\" Enter Random Search. For Random search you specify a hyperparameter space and it picks specifications from that randomly, tries them out, gives you the best results and says - That's going to have to be good enough, go home and spend time with your family. \n",
    "\n",
    "Grid Search treats every parameter as if it was equally important, but this just isn't the case, some are known to move the needle a lot more than others (we'll talk about that in a minute). Random Search allows searching to be specified along the most important parameter and experiments less along the dimensions of less important hyperparameters. The downside of Random search is that it won't find the absolute best hyperparameters, but it is much less costly to perform than Grid Search. \n",
    "\n",
    "#### 4) Bayesian Methods\n",
    "\n",
    "One thing that can make more manual methods like babysitting and gridsearch effective is that as the experimenter sees results he can then make updates to his future searches taking into account the results of past specifications. If only we could hyperparameter tune our hyperparameter tuning. Well, we kind of can. Enter Bayesian Optimization. Neural Networks are like an optimization problem within an optimization problem, and Bayesian Optimization is a search strategy that tries to take into account the results of past searches in order to improve future ones. This is the most advanced method but can be a little bit tricky to implement, but there are some early steps with `hyperas` which is Bayesian optimization wrapper for `keras`. "
   ]
  },
  {
   "cell_type": "markdown",
   "metadata": {
    "colab_type": "text",
    "id": "HfQ7D043OMMn"
   },
   "source": [
    "## What Hyperparameters are there to test?\n",
    "\n",
    "- batch_size\n",
    "- training epochs\n",
    "- optimization algorithms\n",
    "- learning rate\n",
    "- momentum\n",
    "- activation functions\n",
    "- dropout regularization\n",
    "- number of neurons in the hidden layer\n",
    "\n",
    "There are more, but these are the most important."
   ]
  },
  {
   "cell_type": "markdown",
   "metadata": {},
   "source": [
    "## Follow Along"
   ]
  },
  {
   "cell_type": "markdown",
   "metadata": {
    "colab_type": "text",
    "id": "Mri5-kXzVKAa"
   },
   "source": [
    "## Batch Size\n",
    "\n",
    "Batch size determines how many observations the model is shown before it calculates loss/error and updates the model weights via gradient descent. You're looking for a sweet spot here where you're showing it enough observations that you have enough information to updates the weights, but not such a large batch size that you don't get a lot of weight update iterations performed in a given epoch. Feed-forward Neural Networks aren't as sensitive to bach_size as other networks, but it is still an important hyperparameter to tune. Smaller batch sizes will also take longer to train. "
   ]
  },
  {
   "cell_type": "code",
   "execution_count": 5,
   "metadata": {
    "colab": {
     "base_uri": "https://localhost:8080/",
     "height": 13561
    },
    "colab_type": "code",
    "id": "2smXfriNAGn7",
    "outputId": "ae996575-78e2-43fb-9dbe-5d44aaf0b430"
   },
   "outputs": [
    {
     "name": "stdout",
     "output_type": "stream",
     "text": [
      "Best: 0.6327985763549805 using {'batch_size': 40, 'epochs': 20}\n",
      "Means: 0.6185213565826416, Stdev: 0.02140310524956398 with: {'batch_size': 10, 'epochs': 20}\n",
      "Means: 0.5912061929702759, Stdev: 0.04617203845989743 with: {'batch_size': 20, 'epochs': 20}\n",
      "Means: 0.6327985763549805, Stdev: 0.04319084957341726 with: {'batch_size': 40, 'epochs': 20}\n",
      "Means: 0.6106188058853149, Stdev: 0.04054461984753422 with: {'batch_size': 60, 'epochs': 20}\n",
      "Means: 0.5664544761180877, Stdev: 0.08582089515646346 with: {'batch_size': 80, 'epochs': 20}\n",
      "Means: 0.59128258228302, Stdev: 0.05490354871211439 with: {'batch_size': 100, 'epochs': 20}\n"
     ]
    }
   ],
   "source": [
    "import numpy\n",
    "import pandas as pd\n",
    "from sklearn.model_selection import GridSearchCV\n",
    "from tensorflow.keras.models import Sequential\n",
    "from tensorflow.keras.layers import Dense\n",
    "from tensorflow.keras.wrappers.scikit_learn import KerasClassifier\n",
    "\n",
    "# fix random seed for reproducibility\n",
    "seed = 7\n",
    "numpy.random.seed(seed)\n",
    "\n",
    "# load dataset\n",
    "url =\"https://raw.githubusercontent.com/jbrownlee/Datasets/master/pima-indians-diabetes.data.csv\"\n",
    "\n",
    "dataset = pd.read_csv(url, header=None).values\n",
    "\n",
    "# split into input (X) and output (Y) variables\n",
    "X = dataset[:,0:8]\n",
    "Y = dataset[:,8]\n",
    "\n",
    "# Function to create model, required for KerasClassifier\n",
    "def create_model():\n",
    "    # create model\n",
    "    model = Sequential()\n",
    "    model.add(Dense(12, input_dim=8, activation='relu'))\n",
    "    model.add(Dense(1, activation='sigmoid'))\n",
    "    # Compile model\n",
    "    model.compile(loss='binary_crossentropy', optimizer='adam', metrics=['accuracy'])\n",
    "    return model\n",
    "\n",
    "# create model\n",
    "model = KerasClassifier(build_fn=create_model, verbose=0)\n",
    "\n",
    "# define the grid search parameters\n",
    "# batch_size = [10, 20, 40, 60, 80, 100]\n",
    "# param_grid = dict(batch_size=batch_size, epochs=epochs)\n",
    "\n",
    "# define the grid search parameters\n",
    "param_grid = {'batch_size': [10, 20, 40, 60, 80, 100],\n",
    "              'epochs': [20]}\n",
    "\n",
    "# Create Grid Search\n",
    "grid = GridSearchCV(estimator=model, param_grid=param_grid, n_jobs=1)\n",
    "grid_result = grid.fit(X, Y)\n",
    "\n",
    "# Report Results\n",
    "print(f\"Best: {grid_result.best_score_} using {grid_result.best_params_}\")\n",
    "means = grid_result.cv_results_['mean_test_score']\n",
    "stds = grid_result.cv_results_['std_test_score']\n",
    "params = grid_result.cv_results_['params']\n",
    "for mean, stdev, param in zip(means, stds, params):\n",
    "    print(f\"Means: {mean}, Stdev: {stdev} with: {param}\") "
   ]
  },
  {
   "cell_type": "markdown",
   "metadata": {
    "colab_type": "text",
    "id": "pmABfjlvXbqi"
   },
   "source": [
    "## Epochs\n",
    "\n",
    "The number of training epochs has a large and direct affect on the accuracy, However, more epochs is almost always goign to better than less epochs. This means that if you tune this parameter at the beginning and try and maintain the same value all throughout your training, you're going to be waiting a long time for each iteration of GridSearch. I suggest picking a fixed moderat # of epochs all throughout your training and then Grid Searching this parameter at the very end. "
   ]
  },
  {
   "cell_type": "code",
   "execution_count": 6,
   "metadata": {
    "colab": {
     "base_uri": "https://localhost:8080/",
     "height": 26329
    },
    "colab_type": "code",
    "id": "bAmxP3N7TmFh",
    "outputId": "3ddb08c4-51ac-4eaa-ff39-143397024544"
   },
   "outputs": [
    {
     "name": "stdout",
     "output_type": "stream",
     "text": [
      "Best: 0.718767523765564 using {'batch_size': 20, 'epochs': 200}\n",
      "Means: 0.6471182465553283, Stdev: 0.05630154056879198 with: {'batch_size': 20, 'epochs': 20}\n",
      "Means: 0.686232078075409, Stdev: 0.03317398545272534 with: {'batch_size': 20, 'epochs': 40}\n",
      "Means: 0.703157639503479, Stdev: 0.03783015339042304 with: {'batch_size': 20, 'epochs': 60}\n",
      "Means: 0.718767523765564, Stdev: 0.018724013634204385 with: {'batch_size': 20, 'epochs': 200}\n"
     ]
    }
   ],
   "source": [
    "# define the grid search parameters\n",
    "param_grid = {'batch_size': [20],\n",
    "              'epochs': [20, 40, 60,200]}\n",
    "\n",
    "# Create Grid Search\n",
    "grid = GridSearchCV(estimator=model, param_grid=param_grid, n_jobs=1)\n",
    "grid_result = grid.fit(X, Y)\n",
    "\n",
    "# Report Results\n",
    "print(f\"Best: {grid_result.best_score_} using {grid_result.best_params_}\")\n",
    "means = grid_result.cv_results_['mean_test_score']\n",
    "stds = grid_result.cv_results_['std_test_score']\n",
    "params = grid_result.cv_results_['params']\n",
    "for mean, stdev, param in zip(means, stds, params):\n",
    "    print(f\"Means: {mean}, Stdev: {stdev} with: {param}\")"
   ]
  },
  {
   "cell_type": "markdown",
   "metadata": {
    "colab_type": "text",
    "id": "EKcuY6OiaLfz"
   },
   "source": [
    "## Optimizer\n",
    "\n",
    "Remember that there's a different optimizers [optimizers](https://keras.io/optimizers/). At some point, take some time to read up on them a little bit. \"adam\" usually gives the best results. The thing to know about choosing an optimizer is that different optimizers have different hyperparameters like learning rate, momentum, etc. So based on the optimizer you choose you might also have to tune the learning rate and momentum of those optimizers after that. "
   ]
  },
  {
   "cell_type": "markdown",
   "metadata": {
    "colab_type": "text",
    "id": "DG3wq5iOaLig"
   },
   "source": [
    "## Learning Rate\n",
    "\n",
    "Remember that the Learning Rate is a hyperparameter that is specific to your gradient-descent based optimizer selection. A learning rate that is too high will cause divergent behavior, but a Learning Rate that is too low will fail to converge, again, you're looking for the sweet spot. I would start out tuning learning rates by orders of magnitude: [.001, .01, .1, .2, .3, .5] etc. I wouldn't go above .5, but you can try it and see what the behavior is like. \n",
    "\n",
    "Once you have narrowed it down, make the window even smaller and try it again. If after running the above specification your model reports that .1 is the best optimizer, then you should probably try things like [.05, .08, .1, .12, .15] to try and narrow it down. \n",
    "\n",
    "It can also be good to tune the number of epochs in combination with the learning rate since the number of iterations that you allow the learning rate to reach the minimum can determine if you have let it run long enough to converge to the minimum. "
   ]
  },
  {
   "cell_type": "markdown",
   "metadata": {
    "colab_type": "text",
    "id": "gNTBUWd1aLlA"
   },
   "source": [
    "## Momentum\n",
    "\n",
    "Momentum is a hyperparameter that is more commonly associated with Stochastic Gradient Descent. SGD is a common optimizer because it's what people understand and know, but I doubt it will get you the best results, you can try hyperparameter tuning its attributes and see if you can beat the performance from adam. Momentum is a property that decides the willingness of an optimizer to overshoot the minimum. Imagine a ball rolling down one side of a bowl and then up the opposite side a little bit before settling back to the bottom. The purpose of momentum is to try and escale local minima."
   ]
  },
  {
   "cell_type": "markdown",
   "metadata": {
    "colab_type": "text",
    "id": "xnEG-bCJaLnZ"
   },
   "source": [
    "## Activation Functions\n",
    "\n",
    "We've talked about this a little bit, typically you'l want to use ReLU for hidden layers and either Sigmoid, or Softmax for output layers of binary and multi-class classification implementations respectively, but try other activation functions and see if you can get any better results with sigmoid or tanh or something. There are a lot of activation functions that we haven't really talked about. Maybe you'll get good results with them. Maybe you won't. :) <https://keras.io/activations/>"
   ]
  },
  {
   "cell_type": "markdown",
   "metadata": {
    "colab_type": "text",
    "id": "oul9sPq-dU-h"
   },
   "source": [
    "## Network Weight Initialization\n",
    "\n",
    "You saw how big of an effect the way that we initialize our network's weights can have on our results. There are **a lot** of what are called initialization modes. I don't understand all of them, but they can have a big affect on your model's initial accuracy. Your model will get further with less epochs if you initialize it with weights that are well suited to the problem you're trying to solve.\n",
    "\n",
    "`init_mode = ['uniform', 'lecun_uniform', 'normal', 'zero', 'glorot_normal', 'glorot_uniform', 'he_normal', 'he_uniform']`"
   ]
  },
  {
   "cell_type": "markdown",
   "metadata": {
    "colab_type": "text",
    "id": "bqtEuxeQaLqE"
   },
   "source": [
    "## Dropout Regularization and the Weight Constraint\n",
    "\n",
    "the Dropout Regularization value is a percentage of neurons that you want to be randomly deactivated during training. The weight constraint is a second regularization parameter that works in tandem with dropout regularization. You should tune these two values at the same time. \n",
    "\n",
    "Using dropout on visible vs hidden layers might have a different effect. Using dropout on hidden layers might not have any effect while using dropout on hidden layers might have a substantial effect. You don't necessarily need to turn use dropout unless you see that your model has overfitting and generalizability problems."
   ]
  },
  {
   "cell_type": "markdown",
   "metadata": {
    "colab_type": "text",
    "id": "P2c5Cv6oaLtO"
   },
   "source": [
    "## Neurons in Hidden Layer \n",
    "\n",
    "Remember that when we only had a single perceptron our model was only able to fit to linearly separable data, but as we have added layers and nodes to those layers our network has become a powerhouse of fitting nonlinearity in data. The larger the network and the more nodes generally the stronger the network's capacity to fit nonlinear patterns in data. The more nodes and layers the longer it will take to train a network, and higher the probability of overfitting. The larger your network gets the more you'll need dropout regularization or other regularization techniques to keep it in check. \n",
    "\n",
    "Typically depth (more layers) is more important than width (more nodes) for neural networks. This is part of why Deep Learning is so highly touted. Certain deep learning architectures have truly been huge breakthroughs for certain machine learning tasks. \n",
    "\n",
    "You might borrow ideas from other network architectures. For example if I was doing image recognition and I wasn't taking cues from state of the art architectures like resnet, alexnet, googlenet, etc. Then I'm probably going to have to do a lot more experimentation on my own before I find something that works.\n",
    "\n",
    "There are some heuristics, but I am highly skeptical of them. I think you're better off experimenting on your own and forming your own intuition for these kinds of problems. \n",
    "\n",
    "- https://machinelearningmastery.com/how-to-configure-the-number-of-layers-and-nodes-in-a-neural-network/"
   ]
  },
  {
   "cell_type": "markdown",
   "metadata": {},
   "source": [
    "## Challenge\n",
    "You will be expected to tune several hyperparameters in today's module project. "
   ]
  },
  {
   "cell_type": "markdown",
   "metadata": {},
   "source": [
    "# Experiment Tracking Framework (Learn)\n",
    "<a id=\"p2\"></a>"
   ]
  },
  {
   "cell_type": "markdown",
   "metadata": {},
   "source": [
    "## Overview\n",
    "\n",
    "You will notice quickly that managing the results of all the experiments you are running becomes challenging. Which set of parameters did the best? Are my results today different than my results yesterday? Although we use Ipython Notebooks to work, the format is not well suited to logging experimental results. Enter experiment tracking frameworks like [Comet.ml](https://comet.ml) and [Weights and Biases](https://wandb.ai/).\n",
    "\n",
    "Those tools will help you track your experiments, store the results, and the code associated with those experiments. Experimental results can also be readily visualized to see changes in performance across any metric you care about. Data is sent to the tool as each epoch is completed, so you can also see if your model is converging. Let's check out Weights & Biases today. "
   ]
  },
  {
   "cell_type": "markdown",
   "metadata": {},
   "source": [
    "## Follow Along\n",
    "\n",
    "Make sure you login into `wandb` in the terminal before running the next cell. "
   ]
  },
  {
   "cell_type": "code",
   "execution_count": 7,
   "metadata": {},
   "outputs": [],
   "source": [
    "import wandb\n",
    "from wandb.keras import WandbCallback"
   ]
  },
  {
   "cell_type": "code",
   "execution_count": 10,
   "metadata": {},
   "outputs": [
    {
     "name": "stderr",
     "output_type": "stream",
     "text": [
      "'wandb' is not recognized as an internal or external command,\n",
      "operable program or batch file.\n"
     ]
    }
   ],
   "source": [
    "!wandb login 23edc1350be891d3ac08250ce9f4e8f952b123ea"
   ]
  },
  {
   "cell_type": "code",
   "execution_count": null,
   "metadata": {
    "colab": {
     "base_uri": "https://localhost:8080/",
     "height": 1750
    },
    "colab_type": "code",
    "id": "GMXVfmzXp1Oo",
    "outputId": "b05e251e-508f-46e6-865b-f869ae2a5dc4"
   },
   "outputs": [],
   "source": [
    "wandb.init(project=\"boston\", entity=\"lambda-ds7\") #Initializes and Experiment\n",
    "\n",
    "# Important Hyperparameters\n",
    "X =  x_train\n",
    "y =  y_train\n",
    "\n",
    "inputs = X.shape[1]\n",
    "wandb.config.epochs = 50\n",
    "wandb.config.batch_size = 10\n",
    "\n",
    "# Create Model\n",
    "model = Sequential()\n",
    "model.add(Dense(64, activation='relu', input_shape=(inputs,)))\n",
    "model.add(Dense(64, activation='relu'))\n",
    "model.add(Dense(64, activation='relu'))\n",
    "model.add(Dense(64, activation='relu'))\n",
    "model.add(Dense(64, activation='relu'))\n",
    "model.add(Dense(1))\n",
    "# Compile Model\n",
    "model.compile(optimizer='adam', loss='mse', metrics=['mse', 'mae'])\n",
    "\n",
    "# Fit Model\n",
    "model.fit(X, y, \n",
    "          validation_split=0.33, \n",
    "          epochs=wandb.config.epochs, \n",
    "          batch_size=wandb.config.batch_size, \n",
    "          callbacks=[WandbCallback()]\n",
    "         )"
   ]
  },
  {
   "cell_type": "markdown",
   "metadata": {},
   "source": [
    "## Challenge\n",
    "\n",
    "You will be expected to use Weights & Biases to try to tune your model during your module assignment today. "
   ]
  },
  {
   "cell_type": "markdown",
   "metadata": {},
   "source": [
    "# Hyperparameters with RandomSearchCV (Learn)"
   ]
  },
  {
   "cell_type": "markdown",
   "metadata": {},
   "source": [
    "## Overview\n",
    "\n",
    "Basically `GridSearchCV` takes forever. You'll want to adopt a slightly more sophiscated strategy."
   ]
  },
  {
   "cell_type": "markdown",
   "metadata": {},
   "source": [
    "## Follow Along"
   ]
  },
  {
   "cell_type": "code",
   "execution_count": 9,
   "metadata": {},
   "outputs": [],
   "source": [
    "sweep_config = {\n",
    "    'method': 'random',\n",
    "    'parameters': {\n",
    "        'learning_rate': {'distribution': 'normal'},\n",
    "        'epochs': {'distribution': 'uniform',\n",
    "                    'min': 100,\n",
    "                    'max': 1000},\n",
    "        'batch_size': {'distribution': 'uniform',\n",
    "            'min': 10,\n",
    "            'max': 400}\n",
    "    }\n",
    "}"
   ]
  },
  {
   "cell_type": "code",
   "execution_count": 13,
   "metadata": {},
   "outputs": [
    {
     "name": "stdout",
     "output_type": "stream",
     "text": [
      "Create sweep with ID: huau0u9r\n",
      "Sweep URL: https://app.wandb.ai/lambda-ds7/boston/sweeps/huau0u9r\n"
     ]
    }
   ],
   "source": [
    "sweep_id = wandb.sweep(sweep_config)"
   ]
  },
  {
   "cell_type": "code",
   "execution_count": 11,
   "metadata": {},
   "outputs": [],
   "source": [
    "import wandb\n",
    "from wandb.keras import WandbCallback\n",
    "#Initializes and Experiment\n",
    "\n",
    "from tensorflow.keras.optimizers import Adam\n",
    "\n",
    "# Important Hyperparameters\n",
    "X =  x_train\n",
    "y =  y_train\n",
    "\n",
    "inputs = X.shape[1]\n",
    "\n",
    "def train():\n",
    "    \n",
    "    wandb.init(project=\"boston\", entity=\"lambda-ds7\") \n",
    "    \n",
    "    config = wandb.config\n",
    "\n",
    "    # Create Model\n",
    "    model = Sequential()\n",
    "    model.add(Dense(64, activation='relu', input_shape=(inputs,)))\n",
    "    model.add(Dense(64, activation='relu'))\n",
    "    model.add(Dense(64, activation='relu'))\n",
    "    model.add(Dense(1))\n",
    "\n",
    "    # Optimizer \n",
    "    adam = Adam(learning_rate=config.learning_rate)\n",
    "\n",
    "    # Compile Model\n",
    "    model.compile(optimizer=adam, loss='mse', metrics=['mse', 'mae'])\n",
    "\n",
    "    # Fit Model\n",
    "    model.fit(X, y, \n",
    "              validation_split=0.33, \n",
    "              epochs=config.epochs, \n",
    "              batch_size=config.batch_size, \n",
    "              callbacks=[WandbCallback()]\n",
    "             )"
   ]
  },
  {
   "cell_type": "code",
   "execution_count": null,
   "metadata": {},
   "outputs": [
    {
     "name": "stdout",
     "output_type": "stream",
     "text": [
      "wandb: Agent Starting Run: 2g77kp6k with config:\n",
      "\tbatch_size: 308.503347845309\n",
      "\tepochs: 704.9395850579006\n",
      "\tlearning_rate: 1.480005523005428\n",
      "wandb: Agent Started Run: 2g77kp6k\n"
     ]
    },
    {
     "data": {
      "text/html": [
       "\n",
       "                Logging results to <a href=\"https://wandb.com\" target=\"_blank\">Weights & Biases</a> <a href=\"https://docs.wandb.com/integrations/jupyter.html\" target=\"_blank\">(Documentation)</a>.<br/>\n",
       "                Project page: <a href=\"https://app.wandb.ai/lambda-ds7/boston\" target=\"_blank\">https://app.wandb.ai/lambda-ds7/boston</a><br/>\n",
       "                Run page: <a href=\"https://app.wandb.ai/lambda-ds7/boston/runs/t4w9l4ye\" target=\"_blank\">https://app.wandb.ai/lambda-ds7/boston/runs/t4w9l4ye</a><br/>\n",
       "            "
      ],
      "text/plain": [
       "<IPython.core.display.HTML object>"
      ]
     },
     "metadata": {},
     "output_type": "display_data"
    }
   ],
   "source": [
    "wandb.agent(sweep_id, function=train)"
   ]
  },
  {
   "cell_type": "markdown",
   "metadata": {},
   "source": [
    "## Challenge\n",
    "\n",
    "Try to apply RandomSearchCV to your module project today. "
   ]
  },
  {
   "cell_type": "markdown",
   "metadata": {},
   "source": [
    "# Review\n",
    "* <a href=\"#p1\">Part 1</a>: Describe the major hyperparemeters to tune\n",
    "    - Activation Functions\n",
    "    - Optimizer\n",
    "    - Number of Layers\n",
    "    - Number of Neurons\n",
    "    - Batch Size\n",
    "    - Dropout Regulaization\n",
    "    - Learning Rate\n",
    "    - Number of Epochs\n",
    "    - and many more\n",
    "* <a href=\"#p2\">Part 2</a>: Implement an experiment tracking framework\n",
    "    - Weights & Biases\n",
    "    - Comet.ml\n",
    "    - By Hand / GridSearch\n",
    "* <a href=\"#p3\">Part 3</a>: Search the hyperparameter space using RandomSearch\n",
    "    - Sklearn still useful (haha)\n",
    "    - Integration with Wieghts & Biases\n",
    "* <a href=\"#p4\">Part 4</a>: Discuss emerging hyperparameter tuning strategies\n",
    "    - Bayesian Optimization\n",
    "    - Hyperopt\n",
    "    - Genetic Evolution"
   ]
  },
  {
   "cell_type": "markdown",
   "metadata": {},
   "source": [
    "# Sources"
   ]
  },
  {
   "cell_type": "markdown",
   "metadata": {},
   "source": [
    "## Additional Reading\n",
    "- https://machinelearningmastery.com/grid-search-hyperparameters-deep-learning-models-python-keras/\n",
    "- https://blog.floydhub.com/guide-to-hyperparameters-search-for-deep-learning-models/\n",
    "- https://machinelearningmastery.com/dropout-regularization-deep-learning-models-keras/\n",
    "- https://machinelearningmastery.com/introduction-to-weight-constraints-to-reduce-generalization-error-in-deep-learning/\n",
    "- https://machinelearningmastery.com/how-to-configure-the-number-of-layers-and-nodes-in-a-neural-network/"
   ]
  }
 ],
 "metadata": {
  "kernelspec": {
   "display_name": "U4-S1-NN-DS10 (Python3)",
   "language": "python",
   "name": "u4-s1-nn-ds10"
  },
  "language_info": {
   "codemirror_mode": {
    "name": "ipython",
    "version": 3
   },
   "file_extension": ".py",
   "mimetype": "text/x-python",
   "name": "python",
   "nbconvert_exporter": "python",
   "pygments_lexer": "ipython3",
   "version": "3.7.0"
  }
 },
 "nbformat": 4,
 "nbformat_minor": 4
}
